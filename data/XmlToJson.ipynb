{
  "nbformat": 4,
  "nbformat_minor": 0,
  "metadata": {
    "colab": {
      "provenance": []
    },
    "kernelspec": {
      "name": "python3",
      "display_name": "Python 3"
    },
    "language_info": {
      "name": "python"
    }
  },
  "cells": [
    {
      "cell_type": "code",
      "execution_count": 4,
      "metadata": {
        "colab": {
          "base_uri": "https://localhost:8080/"
        },
        "id": "AzRp4UA3PUMr",
        "outputId": "c970dbfa-72c6-48a0-bc5c-1860c7d9c0a8"
      },
      "outputs": [
        {
          "output_type": "stream",
          "name": "stdout",
          "text": [
            "Conversion complete. JSON data written to /content/drive/MyDrive/vinarii.json\n"
          ]
        }
      ],
      "source": [
        "import xml.etree.ElementTree as ET\n",
        "import json\n",
        "\n",
        "def parse_node(node):\n",
        "    data = {\"id\": node.get(\"id\"), \"visible\": node.get(\"visible\"), \"version\": node.get(\"version\"),\n",
        "            \"changeset\": node.get(\"changeset\"), \"timestamp\": node.get(\"timestamp\"), \"user\": node.get(\"user\"),\n",
        "            \"uid\": node.get(\"uid\"), \"lat\": node.get(\"lat\"), \"lon\": node.get(\"lon\")}\n",
        "\n",
        "    tags = {}\n",
        "    for tag in node.findall(\"tag\"):\n",
        "        tags[tag.get(\"k\")] = tag.get(\"v\")\n",
        "\n",
        "    data[\"tags\"] = tags\n",
        "    return data\n",
        "\n",
        "def parse_way(way):\n",
        "    data = {\"id\": way.get(\"id\"), \"visible\": way.get(\"visible\"), \"version\": way.get(\"version\"),\n",
        "            \"changeset\": way.get(\"changeset\"), \"timestamp\": way.get(\"timestamp\"), \"user\": way.get(\"user\"),\n",
        "            \"uid\": way.get(\"uid\")}\n",
        "\n",
        "    nodes = [nd.get(\"ref\") for nd in way.findall(\"nd\")]\n",
        "    data[\"nodes\"] = nodes\n",
        "\n",
        "    tags = {}\n",
        "    for tag in way.findall(\"tag\"):\n",
        "        tags[tag.get(\"k\")] = tag.get(\"v\")\n",
        "\n",
        "    data[\"tags\"] = tags\n",
        "    return data\n",
        "\n",
        "def convert_osm_to_json(osm_file, json_output_file):\n",
        "    root = ET.parse(osm_file).getroot()\n",
        "    result = []\n",
        "\n",
        "    for element in root.findall(\".//node\"):\n",
        "        result.append(parse_node(element))\n",
        "\n",
        "    for element in root.findall(\".//way\"):\n",
        "        result.append(parse_way(element))\n",
        "\n",
        "    with open(json_output_file, 'w') as json_file:\n",
        "        json.dump(result, json_file, indent=2)\n",
        "\n",
        "if __name__ == \"__main__\":\n",
        "    osm_file = \"/content/drive/MyDrive/vinarii_osm.osm\"\n",
        "    json_output_file = \"/content/drive/MyDrive/vinarii.json\"\n",
        "    convert_osm_to_json(osm_file, json_output_file)\n",
        "    print(f\"Conversion complete. JSON data written to {json_output_file}\")\n"
      ]
    },
    {
      "cell_type": "code",
      "source": [],
      "metadata": {
        "id": "zx5BBF9DPqlV"
      },
      "execution_count": 4,
      "outputs": []
    }
  ]
}